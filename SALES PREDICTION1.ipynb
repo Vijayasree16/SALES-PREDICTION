{
 "cells": [
  {
   "cell_type": "code",
   "execution_count": 4,
   "id": "706630f3",
   "metadata": {},
   "outputs": [],
   "source": [
    "import pandas as pd\n",
    "import numpy as np\n"
   ]
  },
  {
   "cell_type": "code",
   "execution_count": 5,
   "id": "49e90a26",
   "metadata": {},
   "outputs": [],
   "source": [
    "df = pd.read_csv(r\"C:\\Users\\Vijay\\Downloads\\car_purchasing.csv\", encoding='ISO-8859-1')\n"
   ]
  },
  {
   "cell_type": "code",
   "execution_count": 6,
   "id": "8f20be0e",
   "metadata": {},
   "outputs": [
    {
     "name": "stdout",
     "output_type": "stream",
     "text": [
      "     customer name                                    customer e-mail  \\\n",
      "0    Martina Avila  cubilia.Curae.Phasellus@quisaccumsanconvallis.edu   \n",
      "1    Harlan Barnes                                eu.dolor@diam.co.uk   \n",
      "2  Naomi Rodriquez  vulputate.mauris.sagittis@ametconsectetueradip...   \n",
      "3  Jade Cunningham                            malesuada@dignissim.com   \n",
      "4     Cedric Leach     felis.ullamcorper.viverra@egetmollislectus.net   \n",
      "\n",
      "        country  gender        age  annual Salary  credit card debt  \\\n",
      "0      Bulgaria       0  41.851720    62812.09301      11609.380910   \n",
      "1        Belize       0  40.870623    66646.89292       9572.957136   \n",
      "2       Algeria       1  43.152897    53798.55112      11160.355060   \n",
      "3  Cook Islands       1  58.271369    79370.03798      14426.164850   \n",
      "4        Brazil       1  57.313749    59729.15130       5358.712177   \n",
      "\n",
      "     net worth  car purchase amount  \n",
      "0  238961.2505          35321.45877  \n",
      "1  530973.9078          45115.52566  \n",
      "2  638467.1773          42925.70921  \n",
      "3  548599.0524          67422.36313  \n",
      "4  560304.0671          55915.46248  \n"
     ]
    }
   ],
   "source": [
    "print(df.head())\n"
   ]
  },
  {
   "cell_type": "code",
   "execution_count": 7,
   "id": "9e5b93d8",
   "metadata": {},
   "outputs": [
    {
     "name": "stdout",
     "output_type": "stream",
     "text": [
      "<class 'pandas.core.frame.DataFrame'>\n",
      "RangeIndex: 500 entries, 0 to 499\n",
      "Data columns (total 9 columns):\n",
      " #   Column               Non-Null Count  Dtype  \n",
      "---  ------               --------------  -----  \n",
      " 0   customer name        500 non-null    object \n",
      " 1   customer e-mail      500 non-null    object \n",
      " 2   country              500 non-null    object \n",
      " 3   gender               500 non-null    int64  \n",
      " 4   age                  500 non-null    float64\n",
      " 5   annual Salary        500 non-null    float64\n",
      " 6   credit card debt     500 non-null    float64\n",
      " 7   net worth            500 non-null    float64\n",
      " 8   car purchase amount  500 non-null    float64\n",
      "dtypes: float64(5), int64(1), object(3)\n",
      "memory usage: 35.3+ KB\n",
      "None\n"
     ]
    }
   ],
   "source": [
    "print(df.info())\n"
   ]
  },
  {
   "cell_type": "code",
   "execution_count": 8,
   "id": "54e751d6",
   "metadata": {},
   "outputs": [
    {
     "name": "stdout",
     "output_type": "stream",
     "text": [
      "           gender         age  annual Salary  credit card debt  \\\n",
      "count  500.000000  500.000000     500.000000        500.000000   \n",
      "mean     0.506000   46.241674   62127.239608       9607.645049   \n",
      "std      0.500465    7.978862   11703.378228       3489.187973   \n",
      "min      0.000000   20.000000   20000.000000        100.000000   \n",
      "25%      0.000000   40.949969   54391.977195       7397.515792   \n",
      "50%      1.000000   46.049901   62915.497035       9655.035568   \n",
      "75%      1.000000   51.612263   70117.862005      11798.867487   \n",
      "max      1.000000   70.000000  100000.000000      20000.000000   \n",
      "\n",
      "            net worth  car purchase amount  \n",
      "count      500.000000           500.000000  \n",
      "mean    431475.713625         44209.799218  \n",
      "std     173536.756340         10773.178744  \n",
      "min      20000.000000          9000.000000  \n",
      "25%     299824.195900         37629.896040  \n",
      "50%     426750.120650         43997.783390  \n",
      "75%     557324.478725         51254.709517  \n",
      "max    1000000.000000         80000.000000  \n"
     ]
    }
   ],
   "source": [
    "print(df.describe())\n"
   ]
  },
  {
   "cell_type": "code",
   "execution_count": 9,
   "id": "0e10e8fe",
   "metadata": {},
   "outputs": [
    {
     "name": "stdout",
     "output_type": "stream",
     "text": [
      "customer name          0\n",
      "customer e-mail        0\n",
      "country                0\n",
      "gender                 0\n",
      "age                    0\n",
      "annual Salary          0\n",
      "credit card debt       0\n",
      "net worth              0\n",
      "car purchase amount    0\n",
      "dtype: int64\n"
     ]
    }
   ],
   "source": [
    "print(df.isnull().sum())\n"
   ]
  },
  {
   "cell_type": "code",
   "execution_count": 11,
   "id": "f63c2fb8",
   "metadata": {},
   "outputs": [],
   "source": [
    "from sklearn.preprocessing import LabelEncoder\n",
    "\n",
    "for col in df.select_dtypes(include='object').columns:\n",
    "    df[col] = LabelEncoder().fit_transform(df[col])\n"
   ]
  },
  {
   "cell_type": "code",
   "execution_count": 12,
   "id": "6318246d",
   "metadata": {},
   "outputs": [],
   "source": [
    "from scipy.stats import zscore\n",
    "df = df[(np.abs(zscore(df)) < 3).all(axis=1)]\n"
   ]
  },
  {
   "cell_type": "code",
   "execution_count": 14,
   "id": "812b7ec0",
   "metadata": {},
   "outputs": [],
   "source": [
    "X = df.drop('car purchase amount', axis=1)\n",
    "y = df['car purchase amount']\n"
   ]
  },
  {
   "cell_type": "code",
   "execution_count": 15,
   "id": "c4d0584c",
   "metadata": {},
   "outputs": [],
   "source": [
    "from sklearn.preprocessing import StandardScaler\n",
    "\n",
    "scaler = StandardScaler()\n",
    "X_scaled = scaler.fit_transform(X)\n"
   ]
  },
  {
   "cell_type": "code",
   "execution_count": 16,
   "id": "182a31b6",
   "metadata": {},
   "outputs": [],
   "source": [
    "from sklearn.model_selection import train_test_split\n",
    "\n",
    "X_train, X_test, y_train, y_test = train_test_split(X_scaled, y, test_size=0.2, random_state=42)\n"
   ]
  },
  {
   "cell_type": "code",
   "execution_count": 17,
   "id": "f83de956",
   "metadata": {},
   "outputs": [
    {
     "data": {
      "text/plain": [
       "RandomForestRegressor(random_state=42)"
      ]
     },
     "execution_count": 17,
     "metadata": {},
     "output_type": "execute_result"
    }
   ],
   "source": [
    "from sklearn.ensemble import RandomForestRegressor\n",
    "\n",
    "model = RandomForestRegressor(n_estimators=100, random_state=42)\n",
    "model.fit(X_train, y_train)\n"
   ]
  },
  {
   "cell_type": "code",
   "execution_count": 21,
   "id": "463b2bf3",
   "metadata": {},
   "outputs": [
    {
     "name": "stdout",
     "output_type": "stream",
     "text": [
      "R² Score: 0.9428105666696649\n",
      "MAE: 1896.9604100696922\n",
      "RMSE: 2466.675880087966\n"
     ]
    }
   ],
   "source": [
    "y_pred = model.predict(X_test)\n",
    "\n",
    "from sklearn.metrics import mean_absolute_error, mean_squared_error, r2_score\n",
    "\n",
    "print(\"R² Score:\", r2_score(y_test, y_pred))\n",
    "print(\"MAE:\", mean_absolute_error(y_test, y_pred))\n",
    "print(\"RMSE:\", np.sqrt(mean_squared_error(y_test, y_pred)))\n"
   ]
  },
  {
   "cell_type": "code",
   "execution_count": 19,
   "id": "aa5c2297",
   "metadata": {},
   "outputs": [],
   "source": [
    "df['Predicted Purchase Amount'] = model.predict(scaler.transform(X))\n",
    "df['Customer Segment'] = pd.cut(df['Predicted Purchase Amount'], \n",
    "                                bins=[0, 20000, 40000, 60000],\n",
    "                                labels=['Low Spender', 'Mid Spender', 'High Spender'])\n"
   ]
  },
  {
   "cell_type": "code",
   "execution_count": 20,
   "id": "088afb42",
   "metadata": {},
   "outputs": [],
   "source": [
    "def recommend_strategy(segment):\n",
    "    if segment == 'Low Spender':\n",
    "        return 'Offer discounts, highlight affordability'\n",
    "    elif segment == 'Mid Spender':\n",
    "        return 'Use trade-in offers or financing'\n",
    "    elif segment == 'High Spender':\n",
    "        return 'Target with luxury add-ons and upgrades'\n",
    "    \n",
    "df['Marketing Strategy'] = df['Customer Segment'].apply(recommend_strategy)\n"
   ]
  },
  {
   "cell_type": "code",
   "execution_count": 22,
   "id": "1a899b75",
   "metadata": {},
   "outputs": [
    {
     "name": "stdout",
     "output_type": "stream",
     "text": [
      "    Customer Segment                       Marketing Strategy\n",
      "0        Mid Spender         Use trade-in offers or financing\n",
      "1       High Spender  Target with luxury add-ons and upgrades\n",
      "2       High Spender  Target with luxury add-ons and upgrades\n",
      "3                NaN                                      NaN\n",
      "4       High Spender  Target with luxury add-ons and upgrades\n",
      "..               ...                                      ...\n",
      "495     High Spender  Target with luxury add-ons and upgrades\n",
      "496      Mid Spender         Use trade-in offers or financing\n",
      "497              NaN                                      NaN\n",
      "498     High Spender  Target with luxury add-ons and upgrades\n",
      "499     High Spender  Target with luxury add-ons and upgrades\n",
      "\n",
      "[494 rows x 2 columns]\n"
     ]
    }
   ],
   "source": [
    "print(df[['Customer Segment', 'Marketing Strategy']])\n"
   ]
  },
  {
   "cell_type": "code",
   "execution_count": null,
   "id": "46d8b1e9",
   "metadata": {},
   "outputs": [],
   "source": []
  }
 ],
 "metadata": {
  "kernelspec": {
   "display_name": "Python 3 (ipykernel)",
   "language": "python",
   "name": "python3"
  },
  "language_info": {
   "codemirror_mode": {
    "name": "ipython",
    "version": 3
   },
   "file_extension": ".py",
   "mimetype": "text/x-python",
   "name": "python",
   "nbconvert_exporter": "python",
   "pygments_lexer": "ipython3",
   "version": "3.9.12"
  }
 },
 "nbformat": 4,
 "nbformat_minor": 5
}
